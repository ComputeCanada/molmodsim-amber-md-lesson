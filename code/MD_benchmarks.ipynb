{
 "cells": [
  {
   "cell_type": "code",
   "execution_count": 1,
   "metadata": {},
   "outputs": [],
   "source": [
    "import sys\n",
    "import pandas as pd\n",
    "import sqlite3\n",
    "from sqlite3 import Error"
   ]
  },
  {
   "cell_type": "markdown",
   "metadata": {},
   "source": [
    "### Open database"
   ]
  },
  {
   "cell_type": "code",
   "execution_count": 51,
   "metadata": {},
   "outputs": [],
   "source": [
    "conn = sqlite3.connect('benchmark.sqlite')\n",
    "c = conn.cursor()"
   ]
  },
  {
   "cell_type": "markdown",
   "metadata": {},
   "source": [
    "### Create database table if it does not exist "
   ]
  },
  {
   "cell_type": "code",
   "execution_count": 3,
   "metadata": {},
   "outputs": [
    {
     "data": {
      "text/plain": [
       "<sqlite3.Cursor at 0x1046c8570>"
      ]
     },
     "execution_count": 3,
     "metadata": {},
     "output_type": "execute_result"
    }
   ],
   "source": [
    "c.execute(\"CREATE TABLE IF NOT EXISTS benchmarks (\\\n",
    "id INTEGER PRIMARY KEY AUTOINCREMENT,\\\n",
    "software TEXT NOT NULL,\\\n",
    "version TEXT NOT NULL,\\\n",
    "module TEXT,\\\n",
    "system TEXT NOT NULL,\\\n",
    "cpu_arch TEXT NOT NULL,\\\n",
    "NVLink TEXT NOT NULL,\\\n",
    "cores INTEGER NOT NULL,\\\n",
    "tasks INTEGER NOT NULL,\\\n",
    "GPUs INTEGER NOT NULL,\\\n",
    "atoms INTEGER NOT NULL,\\\n",
    "rate REAL NOT NULL,\\\n",
    "command TEXT)\")"
   ]
  },
  {
   "cell_type": "markdown",
   "metadata": {},
   "source": [
    "### Prepare entry"
   ]
  },
  {
   "cell_type": "code",
   "execution_count": 58,
   "metadata": {},
   "outputs": [],
   "source": [
    "software = 'GROMACS'\n",
    "version = '20'\n",
    "module = 'amber/20.9-20.15'\n",
    "system = 'Cedar'\n",
    "cpu_arch = 'Broadwell'\n",
    "NVLink = 'no'\n",
    "cores = '16'\n",
    "tasks = '1'\n",
    "GPUs = '1'\n",
    "atoms = '300000'\n",
    "rate = '1000'\n",
    "command = 'pmemd.cuda'"
   ]
  },
  {
   "cell_type": "markdown",
   "metadata": {},
   "source": [
    "### Add entry to the table"
   ]
  },
  {
   "cell_type": "code",
   "execution_count": 59,
   "metadata": {},
   "outputs": [],
   "source": [
    "entry = '\",\"'.join([software,version,module,system,cpu_arch,NVLink,cores,tasks,GPUs,atoms,rate,command])\n",
    "entry='\"'+entry+'\"'\n",
    "c.execute(\"INSERT INTO benchmarks (\\\n",
    "software,version,module,system,cpu_arch,NVLink,cores,tasks,GPUs,atoms,rate,command)\\\n",
    "VALUES\" + \"(\"+entry+\")\") \n",
    "conn.commit()"
   ]
  },
  {
   "cell_type": "markdown",
   "metadata": {},
   "source": [
    "### Select all unique records"
   ]
  },
  {
   "cell_type": "code",
   "execution_count": 63,
   "metadata": {},
   "outputs": [],
   "source": [
    "df = pd.read_sql_query(\"SELECT DISTINCT * from benchmarks ORDER BY rate;\", conn)"
   ]
  },
  {
   "cell_type": "markdown",
   "metadata": {},
   "source": [
    "### Select all 16-core benchmarks"
   ]
  },
  {
   "cell_type": "code",
   "execution_count": 66,
   "metadata": {},
   "outputs": [],
   "source": [
    "df = pd.read_sql_query(\"SELECT DISTINCT * from benchmarks WHERE cores=16 ORDER BY rate;\", conn)"
   ]
  },
  {
   "cell_type": "markdown",
   "metadata": {},
   "source": [
    "### Select all benchmarks with rate > 10.0"
   ]
  },
  {
   "cell_type": "code",
   "execution_count": 71,
   "metadata": {},
   "outputs": [],
   "source": [
    "df = pd.read_sql_query(\"SELECT DISTINCT * from benchmarks WHERE rate>10 ORDER BY rate;\", conn)"
   ]
  },
  {
   "cell_type": "markdown",
   "metadata": {},
   "source": [
    "### Define labels"
   ]
  },
  {
   "cell_type": "code",
   "execution_count": 80,
   "metadata": {},
   "outputs": [],
   "source": [
    "df['label']=df['software']+' '+df['version']+', '\n",
    "df['label']+=df['tasks'].astype(str)+'Tx'\n",
    "df['label']+=df['cores'].astype(str)+'Cx'\n",
    "df['label']+=df['GPUs'].astype(str)+'GPU, '"
   ]
  },
  {
   "cell_type": "code",
   "execution_count": 81,
   "metadata": {},
   "outputs": [
    {
     "data": {
      "text/plain": [
       "<AxesSubplot:ylabel='label'>"
      ]
     },
     "execution_count": 81,
     "metadata": {},
     "output_type": "execute_result"
    },
    {
     "data": {
      "image/png": "[encoded data removed]",
      "text/plain": [
       "<Figure size 432x288 with 1 Axes>"
      ]
     },
     "metadata": {
      "needs_background": "light"
     },
     "output_type": "display_data"
    }
   ],
   "source": [
    "df.plot(y='rate',x='label',kind='barh',logx=False)"
   ]
  },
  {
   "cell_type": "code",
   "execution_count": 86,
   "metadata": {},
   "outputs": [
    {
     "name": "stdout",
     "output_type": "stream",
     "text": [
      "   id software version system   cpu_arch NVLink  cores  tasks  GPUs    rate\n",
      "0   1    AMBER      20  Cedar  Broadwell     no     16      1     1    28.1\n",
      "1   2    AMBER      20  Cedar  Broadwell     no     32      1     1    48.1\n",
      "2   3    AMBER      20  Cedar  Broadwell     no     64      1     1   148.1\n",
      "3   5  GROMACS      20  Cedar  Broadwell     no     16      1     1  1000.0\n"
     ]
    }
   ],
   "source": [
    "df2=df.drop(columns=['label','module','command','atoms'])\n",
    "print(df2)"
   ]
  },
  {
   "cell_type": "code",
   "execution_count": null,
   "metadata": {},
   "outputs": [],
   "source": []
  },
  {
   "cell_type": "code",
   "execution_count": null,
   "metadata": {},
   "outputs": [],
   "source": [
    "c.close()\n",
    "conn.close()"
   ]
  }
 ],
 "metadata": {
  "kernelspec": {
   "display_name": "Python 3",
   "language": "python",
   "name": "python3"
  },
  "language_info": {
   "codemirror_mode": {
    "name": "ipython",
    "version": 3
   },
   "file_extension": ".py",
   "mimetype": "text/x-python",
   "name": "python",
   "nbconvert_exporter": "python",
   "pygments_lexer": "ipython3",
   "version": "3.8.7"
  }
 },
 "nbformat": 4,
 "nbformat_minor": 4
}
